{
 "cells": [
  {
   "cell_type": "code",
   "execution_count": 5,
   "source": [
    "import json\n",
    "import requests\n",
    "\n",
    "url = 'https://api.github.com/some/endpoint'\n",
    "payload = {'some': 'data'}\n",
    "\n",
    "r = requests.post(url, data=json.dumps(payload))\n",
    "r"
   ],
   "outputs": [
    {
     "output_type": "execute_result",
     "data": {
      "text/plain": [
       "<Response [404]>"
      ]
     },
     "metadata": {},
     "execution_count": 5
    }
   ],
   "metadata": {}
  },
  {
   "cell_type": "markdown",
   "source": [
    "**Q: [Difference between data and json parameters in python requests package](https://stackoverflow.com/questions/26685248/difference-between-data-and-json-parameters-in-python-requests-package)**\n",
    "\n",
    "**A:** it appears my two examples above do the same thing and that using the json parameter does indeed set the content-type in the headers to application/json. In my first example above using the data parameter, the content-type in the headers would need to be set manually."
   ],
   "metadata": {}
  },
  {
   "cell_type": "code",
   "execution_count": null,
   "source": [
    "print(f\"url.headers = {json.dumps(dict(response.headers), indent=4)}\")"
   ],
   "outputs": [],
   "metadata": {}
  },
  {
   "cell_type": "markdown",
   "source": [
    "Q: 给定时间和limit，实现rate limiting. 比如，同一个user，2秒内只能call 5次"
   ],
   "metadata": {}
  },
  {
   "cell_type": "code",
   "execution_count": 20,
   "source": [
    "# Q1: do we care about the accuracy? This implementation doesn't care accuracy.\n",
    "# Q2: is declined call counting towards the limit of 5 later? This implementation doesn't count this.\n",
    "\n",
    "from collections import defaultdict\n",
    "N = 2\n",
    "\n",
    "class RateLimiter():\n",
    "    def __init__(self, N, limit):\n",
    "        self.N = N\n",
    "        self.limit = limit\n",
    "        self.times = [0] * N\n",
    "        self.buckets = [defaultdict(int)] * N\n",
    "    \n",
    "    def accept(self, user_name, timestamp):\n",
    "        idx = timestamp % self.N\n",
    "        if timestamp != self.times[idx]:\n",
    "            self.buckets[idx] = defaultdict(int)\n",
    "            self.times[idx] = timestamp\n",
    "        total = 0\n",
    "        for i in range(self.N):\n",
    "            if timestamp - self.times[i] < self.N:\n",
    "                total += self.buckets[i].get(user_name, 0)\n",
    "            else:\n",
    "                self.buckets[i] = defaultdict(int)\n",
    "        if total >= 5:\n",
    "            return False\n",
    "        self.buckets[idx][user_name] += 1\n",
    "        return True\n",
    "\n",
    "\n",
    "rate_limiter = RateLimiter(2, 5)\n",
    "print(rate_limiter.accept(\"a\", 1))\n",
    "print(rate_limiter.accept(\"a\", 1))\n",
    "print(rate_limiter.accept(\"a\", 2))\n",
    "print(rate_limiter.accept(\"a\", 2))\n",
    "print(rate_limiter.accept(\"a\", 2))\n",
    "print(rate_limiter.accept(\"a\", 2))\n",
    "print(rate_limiter.accept(\"a\", 3))\n",
    "print(rate_limiter.accept(\"a\", 3))\n",
    "print(rate_limiter.accept(\"a\", 3))\n",
    "\n",
    "\n"
   ],
   "outputs": [
    {
     "output_type": "stream",
     "name": "stdout",
     "text": [
      "True\n",
      "True\n",
      "True\n",
      "True\n",
      "True\n",
      "False\n",
      "True\n",
      "True\n",
      "False\n"
     ]
    }
   ],
   "metadata": {}
  },
  {
   "cell_type": "code",
   "execution_count": 21,
   "source": [
    "from collections import defaultdict\n",
    "d = defaultdict(int)\n",
    "d[\"a\"] += 1\n",
    "d"
   ],
   "outputs": [
    {
     "output_type": "execute_result",
     "data": {
      "text/plain": [
       "defaultdict(int, {'a': 1})"
      ]
     },
     "metadata": {},
     "execution_count": 21
    }
   ],
   "metadata": {}
  },
  {
   "cell_type": "markdown",
   "source": [
    "Q: Coding: 这一轮貌似是新题。    完成一个简单的invoice email reminder功能. 实现Invoicer Class, 构造函数给定一个发邮件的schedule {time_diff: email_template}.\n",
    "    - 实现一个函数send_emails， 给定list of invoice, 每个invoice包含invoice_time, user, due_amount 信息。return 按时间顺序排列的需要发送给user的所有email reminder\n",
    "    - followup是升级版的send_emails，除了list of invoice以外，还提供一个payment的list。每个payment有一个pay_time, user, pay_amount。return 按时间顺序排列的需要发送给user的所有email reminder。主要区别是已经付清了的invoice就不需要发邮件了。我这题的两问，都用priorityqueue解决的。\n"
   ],
   "metadata": {}
  },
  {
   "cell_type": "markdown",
   "source": [],
   "metadata": {}
  },
  {
   "cell_type": "markdown",
   "source": [
    "Q：coding轮：\n",
    "有一对银行账号，以及每个账号对应的余额。要求每个账号最后余额不能低于100。问你要进行哪几个transaction，能到达要求。一开始先不要求任何optimization，只要能满足条件就行。\n",
    "比如{AC1: 120, AC2: 70: AC3: 150, AC4: 80}\n",
    "\n",
    "那么其中一个合格的输出：[\"AC1 send 20 to AC2\", \"AC3 send 10 to AC2\", \"AC3 send 20 to AC4\", ]"
   ],
   "metadata": {}
  },
  {
   "cell_type": "code",
   "execution_count": 27,
   "source": [
    "from collections import deque\n",
    "\n",
    "def transaction(accounts):\n",
    "    if sum([a[1] for a in accounts]) / len(accounts) < 100:\n",
    "        return \"-1\"\n",
    "    rich, poor, res = deque(), deque(), []\n",
    "    # divide rich and poor\n",
    "    for acc in accounts:\n",
    "        acc[1] -= 100\n",
    "        if acc[1] > 0:\n",
    "            rich.append(acc)\n",
    "        elif acc[1] < 0:\n",
    "            poor.append(acc)\n",
    "    # give poor money\n",
    "    while poor:\n",
    "        if rich[0][1] == abs(poor[0][1]): # rich队列头部账户余额刚好可以抵消poor队列头部账户差值\n",
    "            res.append(f\"{rich[0][0]} send {rich[0][1]} to {poor[0][0]}\")\n",
    "            rich.popleft()\n",
    "            poor.popleft()\n",
    "        elif rich[0][1] > abs(poor[0][1]): # rich队列头部账户余额比poor队列头部账户差值多\n",
    "            res.append(f\"{rich[0][0]} send {-poor[0][1]} to {poor[0][0]}\")\n",
    "            rich[0][1] -= abs(poor[0][1])\n",
    "            poor.popleft()\n",
    "        else: # rich队列头部账户余额不够支付poor队列头部账户差值\n",
    "            res.append(f\"{rich[0][0]} send {rich[0][1]} to {poor[0][0]}\")\n",
    "            poor[0][1] += rich[0][1]\n",
    "            rich.popleft()\n",
    "    return res\n",
    "\n",
    "print(transaction([['AC1', 120], ['AC2', 70], ['AC3', 150], ['AC4', 80]]))"
   ],
   "outputs": [
    {
     "output_type": "stream",
     "name": "stdout",
     "text": [
      "['AC1 send 20 to AC2', 'AC3 send 10 to AC2', 'AC3 send 20 to AC4']\n"
     ]
    }
   ],
   "metadata": {}
  },
  {
   "cell_type": "code",
   "execution_count": 53,
   "source": [
    "from collections import deque\n",
    "\n",
    "def transaction(accounts):\n",
    "    if sum([a[1] for a in accounts]) / len(accounts) < 100:\n",
    "        return \"-1\"\n",
    "    rich, poor, res = deque(), deque(), []\n",
    "    # divide rich and poor\n",
    "    for acc in accounts:\n",
    "        acc[1] -= 100\n",
    "        if acc[1] > 0:\n",
    "            rich.append(acc)\n",
    "        elif acc[1] < 0:\n",
    "            poor.append(acc)\n",
    "    # give poor money\n",
    "    while poor:\n",
    "        if rich[0][1] == abs(poor[0][1]): # rich队列头部账户余额刚好可以抵消poor队列头部账户差值\n",
    "            res.append(f\"{rich[0][0]} send {rich[0][1]} to {poor[0][0]}\")\n",
    "            rich.popleft()\n",
    "            poor.popleft()\n",
    "        elif rich[0][1] > abs(poor[0][1]): # rich队列头部账户余额比poor队列头部账户差值多\n",
    "            res.append(f\"{rich[0][0]} send {-poor[0][1]} to {poor[0][0]}\")\n",
    "            rich[0][1] -= abs(poor[0][1])\n",
    "            poor.popleft()\n",
    "        else: # rich队列头部账户余额不够支付poor队列头部账户差值\n",
    "            res.append(f\"{rich[0][0]} send {rich[0][1]} to {poor[0][0]}\")\n",
    "            poor[0][1] += rich[0][1]\n",
    "            rich.popleft()\n",
    "    return res\n",
    "\n",
    "print(transaction([['AC1', 120], ['AC2', 70], ['AC3', 150], ['AC4', 80]]))"
   ],
   "outputs": [
    {
     "output_type": "stream",
     "name": "stdout",
     "text": [
      "['AC1 send 20 to AC2', 'AC3 send 10 to AC2', 'AC3 send 20 to AC4']\n"
     ]
    }
   ],
   "metadata": {}
  },
  {
   "cell_type": "code",
   "execution_count": 39,
   "source": [
    "from collections import Counter\n",
    "a = [1,2,3,4,1,1,2,3,4,7,9,2]\n",
    "count = Counter(a)\n",
    "print(count)\n",
    "print(list(count.items()))"
   ],
   "outputs": [
    {
     "output_type": "stream",
     "name": "stdout",
     "text": [
      "Counter({1: 3, 2: 3, 3: 2, 4: 2, 7: 1, 9: 1})\n",
      "[(1, 3), (2, 3), (3, 2), (4, 2), (7, 1), (9, 1)]\n"
     ]
    }
   ],
   "metadata": {}
  },
  {
   "cell_type": "code",
   "execution_count": 52,
   "source": [
    "import heapq \n",
    "a = [1,3,54,1,3]\n",
    "heapq.heapify(a)\n",
    "print(a)\n",
    "print(heapq.heappop(a))\n",
    "print(a)"
   ],
   "outputs": [
    {
     "output_type": "stream",
     "name": "stdout",
     "text": [
      "[1, 1, 54, 3, 3]\n",
      "1\n",
      "[1, 3, 54, 3]\n"
     ]
    }
   ],
   "metadata": {}
  },
  {
   "cell_type": "code",
   "execution_count": 51,
   "source": [],
   "outputs": [
    {
     "output_type": "stream",
     "name": "stdout",
     "text": [
      "Element(10),Element(11),Element(12),Element(13),Element(14),Element(15),Element(16),Element(17),Element(18),Element(19)\n",
      "Element(19),Element(18),Element(17),Element(16),Element(15),Element(14),Element(13),Element(12),Element(11),Element(10)\n"
     ]
    }
   ],
   "metadata": {}
  },
  {
   "cell_type": "markdown",
   "source": [],
   "metadata": {}
  }
 ],
 "metadata": {
  "orig_nbformat": 4,
  "language_info": {
   "name": "python",
   "version": "3.7.4",
   "mimetype": "text/x-python",
   "codemirror_mode": {
    "name": "ipython",
    "version": 3
   },
   "pygments_lexer": "ipython3",
   "nbconvert_exporter": "python",
   "file_extension": ".py"
  },
  "kernelspec": {
   "name": "python3",
   "display_name": "Python 3.7.4 64-bit ('base': conda)"
  },
  "interpreter": {
   "hash": "5f2401d6ce626acbd39bee8141fe0b92548c303a895daf0163c410b616a3f6a5"
  }
 },
 "nbformat": 4,
 "nbformat_minor": 2
}