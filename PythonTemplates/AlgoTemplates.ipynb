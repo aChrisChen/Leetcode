{
 "cells": [
  {
   "cell_type": "code",
   "execution_count": 7,
   "source": [
    "from collections import *\n",
    "from typing import *"
   ],
   "outputs": [],
   "metadata": {}
  },
  {
   "cell_type": "markdown",
   "source": [
    "## Quick Select"
   ],
   "metadata": {}
  },
  {
   "cell_type": "code",
   "execution_count": 8,
   "source": [
    "import random\n",
    "# pivot\n",
    "# S S S S P P P L L L \n",
    "# S: numbers which < P\n",
    "# P: number which = P\n",
    "# L: number which > P\n",
    "ls = [4,3,2,1,5]\n",
    "\n",
    "def swap(ls, a, b):\n",
    "    tmp = ls[a]\n",
    "    ls[a] = ls[b]\n",
    "    ls[b] = tmp\n",
    "\n",
    "def quickSelect(ls, a, b, k):\n",
    "    pivotNum = random.choice(ls[a:b+1])\n",
    "    # i points to the position to be swapped a number < pivotNum next\n",
    "    # j points to the position to be swapped a number > pivotNum next\n",
    "    # t is the iterator\n",
    "    i = a\n",
    "    t = a\n",
    "    j = b\n",
    "    while t <= j:\n",
    "        if ls[t] < pivotNum:\n",
    "            # S S S S P P P X X X X L L L \n",
    "            #         i     t     j\n",
    "            swap(ls, t, i)\n",
    "            i += 1\n",
    "            t += 1 # the number swapped here must be <= pivotNum\n",
    "        elif ls[t] > pivotNum:\n",
    "            swap(ls, t, j)\n",
    "            j-= 1\n",
    "        else:\n",
    "            t += 1\n",
    "    # S S S S P P P L L L \n",
    "    # a       i   j t   b\n",
    "    if i - a >= k: # the number of S, is larger than or equal to k\n",
    "        return quickSelect(ls, a, i-1, k)\n",
    "    elif j - a + 1 >= k:\n",
    "        return pivotNum\n",
    "    else:\n",
    "        return quickSelect(ls, j+1, b, k-(j-a+1))\n",
    "\n",
    "print(quickSelect(ls, 0, len(ls)-1, 2))\n",
    "print(ls)\n",
    "\n"
   ],
   "outputs": [
    {
     "output_type": "stream",
     "name": "stdout",
     "text": [
      "2\n",
      "[1, 2, 5, 4, 3]\n"
     ]
    }
   ],
   "metadata": {}
  },
  {
   "cell_type": "markdown",
   "source": [
    "#### LC347: TopKFrequent"
   ],
   "metadata": {}
  },
  {
   "cell_type": "code",
   "execution_count": 11,
   "source": [
    "def topKFrequent(nums: List[int], k: int) -> List[int]:\n",
    "    def swap(count, i, j):\n",
    "        # print(f\"Now swapping {i} and {j}\")\n",
    "        tmp = count[i]\n",
    "        count[i] = count[j]\n",
    "        count[j] = tmp\n",
    "            \n",
    "    def quickselect(count, a, b, k):\n",
    "        pivot = random.choice(count[a:b+1])\n",
    "        i, t, j = a, a, b\n",
    "        # S S S P P P X X X L L L\n",
    "        #       i     t   j\n",
    "        while t <= j:\n",
    "            if count[t][1] > pivot[1]: # (key, value)\n",
    "                swap(count, i, t)\n",
    "                i += 1\n",
    "                t += 1\n",
    "            elif count[t][1] < pivot[1]:\n",
    "                swap(count, t, j)\n",
    "                j -= 1\n",
    "            else:\n",
    "                t += 1\n",
    "        if i - a >= k:\n",
    "            return quickselect(count, a, i-1, k)\n",
    "        elif j - a + 1 >= k:\n",
    "            return pivot\n",
    "        return quickselect(count, j+1, b, k-(j-a+1))\n",
    "            \n",
    "    count = list(Counter(nums).items())\n",
    "    pivot = quickselect(count, 0, len(count)-1, k)\n",
    "    return [k for k, v in count[0:k]]\n",
    "\n",
    "topKFrequent([1,1,1,2,2,3], 2)"
   ],
   "outputs": [
    {
     "output_type": "execute_result",
     "data": {
      "text/plain": [
       "[1, 2]"
      ]
     },
     "metadata": {},
     "execution_count": 11
    }
   ],
   "metadata": {}
  },
  {
   "cell_type": "code",
   "execution_count": null,
   "source": [],
   "outputs": [],
   "metadata": {}
  },
  {
   "cell_type": "code",
   "execution_count": null,
   "source": [],
   "outputs": [],
   "metadata": {}
  }
 ],
 "metadata": {
  "orig_nbformat": 4,
  "language_info": {
   "name": "python",
   "version": "3.7.4",
   "mimetype": "text/x-python",
   "codemirror_mode": {
    "name": "ipython",
    "version": 3
   },
   "pygments_lexer": "ipython3",
   "nbconvert_exporter": "python",
   "file_extension": ".py"
  },
  "kernelspec": {
   "name": "python3",
   "display_name": "Python 3.7.4 64-bit ('base': conda)"
  },
  "interpreter": {
   "hash": "5f2401d6ce626acbd39bee8141fe0b92548c303a895daf0163c410b616a3f6a5"
  }
 },
 "nbformat": 4,
 "nbformat_minor": 2
}